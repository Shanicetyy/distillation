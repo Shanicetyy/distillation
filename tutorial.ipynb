{
 "cells": [
  {
   "cell_type": "code",
   "execution_count": 18,
   "outputs": [],
   "source": [
    "import distillation.amundson_1958 as am\n",
    "model = am.Model(\n",
    "   components=['n-Butane', 'n-Pentane', 'n-Octane'],\n",
    "    F=1000., # kmol/h\n",
    "    P=2*1e5, #\n",
    "    z_feed=[0.2, 0.5, 0.3],\n",
    "    RR=1.,\n",
    "    D=400., \n",
    "    N=30,\n",
    "    feed_stage=15,\n",
    ")"
   ],
   "metadata": {
    "collapsed": false,
    "pycharm": {
     "name": "#%%\n",
     "is_executing": false
    }
   }
  },
  {
   "cell_type": "code",
   "execution_count": 19,
   "outputs": [
    {
     "name": "stdout",
     "text": [
      "Setting DePriester parameters for n-Butane:\n",
      "             a_T1 [deg Rankine^2]: -1280557.0\n",
      "             a_T2 [deg Rankine]: 0.0\n",
      "             a_T6 [dimensionless]: 7.94986\n",
      "             a_p1 [dimensionless]: -0.96455\n",
      "             a_p2 [psia^2]: 0.0\n",
      "             a_p3 [psia]: 0.0\n",
      "     K value at 300 K, 1 bar=  2.661186999988651\n",
      "Setting DePriester parameters for n-Pentane:\n",
      "             a_T1 [deg Rankine^2]: -1524891.0\n",
      "             a_T2 [deg Rankine]: 0.0\n",
      "             a_T6 [dimensionless]: 7.33129\n",
      "             a_p1 [dimensionless]: -0.89143\n",
      "             a_p2 [psia^2]: 0.0\n",
      "             a_p3 [psia]: 0.0\n",
      "     K value at 300 K, 1 bar=  0.7541583496653457\n",
      "Setting DePriester parameters for n-Octane:\n",
      "             a_T1 [deg Rankine^2]: 0.0\n",
      "             a_T2 [deg Rankine]: -7646.81641\n",
      "             a_T6 [dimensionless]: 12.48457\n",
      "             a_p1 [dimensionless]: -0.73152\n",
      "             a_p2 [psia^2]: 0.0\n",
      "             a_p3 [psia]: 0.0\n",
      "     K value at 300 K, 1 bar=  0.026447701262845617\n",
      "Setting heat capacity constants for n-Butane (taken from Perrys):\n",
      "            1: 191030.0\n",
      "            2: -1675.0\n",
      "            3: 12.5\n",
      "            4: -0.03874\n",
      "            5: 4.6121e-05\n",
      "             value at 300K [J/kmol/K]= 141130.10000000015\n",
      "Setting heat capacity constants for n-Pentane (taken from Perrys):\n",
      "            1: 159080.0\n",
      "            2: -270.5\n",
      "            3: 0.99537\n",
      "            4: 0.0\n",
      "            5: 0.0\n",
      "             value at 300K [J/kmol/K]= 167513.3\n",
      "Setting heat capacity constants for n-Octane (taken from Perrys):\n",
      "            1: 224830.0\n",
      "            2: -186.63\n",
      "            3: 0.95891\n",
      "            4: 0.0\n",
      "            5: 0.0\n",
      "             value at 300K [J/kmol/K]= 255142.90000000002\n",
      "Setting heat capacity for n-Butane to be 4R (ideal polyatomic gas)\n",
      "Setting heat capacity for n-Pentane to be 4R (ideal polyatomic gas)\n",
      "Setting heat capacity for n-Octane to be 4R (ideal polyatomic gas)\n",
      "Assuming heat of vaporization of n-Butane is constant at 2.240000e+01 kJ/mol\n",
      "Assuming heat of vaporization of n-Pentane is constant at 2.580000e+01 kJ/mol\n",
      "Assuming heat of vaporization of n-Octane is constant at 3.441000e+01 kJ/mol\n"
     ],
     "output_type": "stream"
    }
   ],
   "source": [
    "model.add_parameters(verbose=True)"
   ],
   "metadata": {
    "collapsed": false,
    "pycharm": {
     "name": "#%%\n",
     "is_executing": false
    }
   }
  },
  {
   "cell_type": "code",
   "execution_count": 20,
   "outputs": [
    {
     "name": "stdout",
     "text": [
      "300.0\n",
      "325.9228553172105\n"
     ],
     "output_type": "stream"
    }
   ],
   "source": [
    "print(model.T_feed)\n",
    "model.calculate_T_feed()\n",
    "print(model.T_feed)"
   ],
   "metadata": {
    "collapsed": false,
    "pycharm": {
     "name": "#%%\n",
     "is_executing": false
    }
   }
  },
  {
   "cell_type": "code",
   "execution_count": 21,
   "outputs": [
    {
     "name": "stdout",
     "text": [
      "[0. 0. 0. 0. 0. 0. 0. 0. 0. 0. 0. 0. 0. 0. 0. 0. 0. 0. 0. 0. 0. 0. 0. 0.\n",
      " 0. 0. 0. 0. 0. 0. 0.]\n",
      "[0. 0. 0. 0. 0. 0. 0. 0. 0. 0. 0. 0. 0. 0. 0. 0. 0. 0. 0. 0. 0. 0. 0. 0.\n",
      " 0. 0. 0. 0. 0. 0. 0.]\n",
      "[ 400.  400.  400.  400.  400.  400.  400.  400.  400.  400.  400.  400.\n",
      "  400.  400.  400. 1400. 1400. 1400. 1400. 1400. 1400. 1400. 1400. 1400.\n",
      " 1400. 1400. 1400. 1400. 1400. 1400.  600.]\n",
      "[  0. 800. 800. 800. 800. 800. 800. 800. 800. 800. 800. 800. 800. 800.\n",
      " 800. 800. 800. 800. 800. 800. 800. 800. 800. 800. 800. 800. 800. 800.\n",
      " 800. 800. 800.]\n"
     ],
     "output_type": "stream"
    }
   ],
   "source": [
    "print(model.L)\n",
    "print(model.V)\n",
    "model.initialize_flow_rates()\n",
    "print(model.L)\n",
    "print(model.V)"
   ],
   "metadata": {
    "collapsed": false,
    "pycharm": {
     "name": "#%%\n",
     "is_executing": false
    }
   }
  },
  {
   "cell_type": "code",
   "execution_count": 22,
   "outputs": [
    {
     "name": "stdout",
     "text": [
      "[0. 0. 0. 0. 0. 0. 0. 0. 0. 0. 0. 0. 0. 0. 0. 0. 0. 0. 0. 0. 0. 0. 0. 0.\n",
      " 0. 0. 0. 0. 0. 0. 0.]\n",
      "[0. 0. 0. 0. 0. 0. 0. 0. 0. 0. 0. 0. 0. 0. 0. 0. 0. 0. 0. 0. 0. 0. 0. 0.\n",
      " 0. 0. 0. 0. 0. 0. 0.]\n",
      "[0. 0. 0. 0. 0. 0. 0. 0. 0. 0. 0. 0. 0. 0. 0. 0. 0. 0. 0. 0. 0. 0. 0. 0.\n",
      " 0. 0. 0. 0. 0. 0. 0.]\n",
      "[2.66708293 2.66708293 2.66708293 2.66708293 2.66708293 2.66708293\n",
      " 2.66708293 2.66708293 2.66708293 2.66708293 2.66708293 2.66708293\n",
      " 2.66708293 2.66708293 2.66708293 2.66708293 2.66708293 2.66708293\n",
      " 2.66708293 2.66708293 2.66708293 2.66708293 2.66708293 2.66708293\n",
      " 2.66708293 2.66708293 2.66708293 2.66708293 2.66708293 2.66708293\n",
      " 2.66708293]\n",
      "[0.90369028 0.90369028 0.90369028 0.90369028 0.90369028 0.90369028\n",
      " 0.90369028 0.90369028 0.90369028 0.90369028 0.90369028 0.90369028\n",
      " 0.90369028 0.90369028 0.90369028 0.90369028 0.90369028 0.90369028\n",
      " 0.90369028 0.90369028 0.90369028 0.90369028 0.90369028 0.90369028\n",
      " 0.90369028 0.90369028 0.90369028 0.90369028 0.90369028 0.90369028\n",
      " 0.90369028]\n",
      "[0.04912757 0.04912757 0.04912757 0.04912757 0.04912757 0.04912757\n",
      " 0.04912757 0.04912757 0.04912757 0.04912757 0.04912757 0.04912757\n",
      " 0.04912757 0.04912757 0.04912757 0.04912757 0.04912757 0.04912757\n",
      " 0.04912757 0.04912757 0.04912757 0.04912757 0.04912757 0.04912757\n",
      " 0.04912757 0.04912757 0.04912757 0.04912757 0.04912757 0.04912757\n",
      " 0.04912757]\n"
     ],
     "output_type": "stream"
    }
   ],
   "source": [
    "for i in model.components:\n",
    "    print(model.K[i])\n",
    "model.update_K_values()\n",
    "for i in model.components:\n",
    "    print(model.K[i])"
   ],
   "metadata": {
    "collapsed": false,
    "pycharm": {
     "name": "#%%\n",
     "is_executing": false
    }
   }
  },
  {
   "cell_type": "code",
   "execution_count": 23,
   "outputs": [
    {
     "name": "stdout",
     "text": [
      "n-Butane [0. 0. 0. 0. 0. 0. 0. 0. 0. 0. 0. 0. 0. 0. 0. 0. 0. 0. 0. 0. 0. 0. 0. 0.\n",
      " 0. 0. 0. 0. 0. 0. 0.]\n",
      "n-Pentane [0. 0. 0. 0. 0. 0. 0. 0. 0. 0. 0. 0. 0. 0. 0. 0. 0. 0. 0. 0. 0. 0. 0. 0.\n",
      " 0. 0. 0. 0. 0. 0. 0.]\n",
      "n-Octane [0. 0. 0. 0. 0. 0. 0. 0. 0. 0. 0. 0. 0. 0. 0. 0. 0. 0. 0. 0. 0. 0. 0. 0.\n",
      " 0. 0. 0. 0. 0. 0. 0.]\n",
      "n-Butane [1.99931468e+02 7.49625989e+01 5.15345930e+01 4.71425275e+01\n",
      " 4.63191437e+01 4.61647834e+01 4.61358453e+01 4.61304203e+01\n",
      " 4.61294033e+01 4.61292126e+01 4.61291769e+01 4.61291701e+01\n",
      " 4.61291689e+01 4.61291687e+01 4.61291686e+01 1.61452090e+02\n",
      " 1.05891430e+02 6.94354382e+01 4.55149274e+01 2.98195422e+01\n",
      " 1.95210533e+01 1.27637247e+01 8.32991997e+00 5.42068974e+00\n",
      " 3.51180538e+00 2.25929554e+00 1.43746424e+00 8.98221629e-01\n",
      " 5.44398896e-01 3.12238968e-01 6.85319117e-02]\n",
      "n-Pentane [161.47974429 178.68925577 188.2110531  193.47933887 196.3942124\n",
      " 198.00697375 198.89929349 199.39300231 199.66616494 199.81730225\n",
      " 199.90092454 199.94719166 199.97279065 199.98695423 199.99479076\n",
      " 699.99694313 700.00111121 700.0091827  700.02481318 700.05508166\n",
      " 700.11369671 700.227205   700.44701428 700.87267585 701.69697127\n",
      " 703.29322278 706.38437047 712.37039087 723.96234429 746.4102104\n",
      " 338.52025571]\n",
      "n-Octane [3.21129499e-14 6.53664521e-13 6.97955814e-12 7.13618749e-11\n",
      " 7.26618343e-10 7.39554640e-09 7.52691251e-08 7.66058206e-07\n",
      " 7.79662244e-06 7.93507839e-05 8.07599307e-04 8.21941017e-03\n",
      " 8.36537414e-02 8.51393020e-01 8.66512439e+00 3.08665124e+02\n",
      " 3.08665124e+02 3.08665124e+02 3.08665124e+02 3.08665124e+02\n",
      " 3.08665124e+02 3.08665124e+02 3.08665124e+02 3.08665124e+02\n",
      " 3.08665125e+02 3.08665131e+02 3.08665367e+02 3.08673782e+02\n",
      " 3.08973531e+02 3.19651028e+02 3.00000000e+02]\n"
     ],
     "output_type": "stream"
    }
   ],
   "source": [
    "for i in model.components:\n",
    "    print(i, model.l[i])\n",
    "for i in model.components:\n",
    "    model.solve_component_mass_bal(i)\n",
    "for i in model.components:\n",
    "    print(i, model.l[i])"
   ],
   "metadata": {
    "collapsed": false,
    "pycharm": {
     "name": "#%%\n",
     "is_executing": false
    }
   }
  },
  {
   "cell_type": "code",
   "execution_count": 24,
   "outputs": [
    {
     "name": "stdout",
     "text": [
      "[325.92285532 325.92285532 325.92285532 325.92285532 325.92285532\n",
      " 325.92285532 325.92285532 325.92285532 325.92285532 325.92285532\n",
      " 325.92285532 325.92285532 325.92285532 325.92285532 325.92285532\n",
      " 325.92285532 325.92285532 325.92285532 325.92285532 325.92285532\n",
      " 325.92285532 325.92285532 325.92285532 325.92285532 325.92285532\n",
      " 325.92285532 325.92285532 325.92285532 325.92285532 325.92285532\n",
      " 325.92285532]\n",
      "[302.20068703 312.49278706 316.47614104 317.48431612 317.75806674\n",
      " 317.85401622 317.89656025 317.9180896  317.92961467 317.93592481\n",
      " 317.93949948 317.94247871 317.95434893 318.06481245 319.16909974\n",
      " 329.15509051 333.07888509 336.1183067  338.35994917 339.9539896\n",
      " 341.05811118 341.80846988 342.31065996 342.6409709  342.85110071\n",
      " 342.97260855 343.01923008 342.98609765 342.85406897 342.92122026\n",
      " 353.71870797]\n"
     ],
     "output_type": "stream"
    }
   ],
   "source": [
    "print(model.T)\n",
    "model.update_T_values()\n",
    "print(model.T)"
   ],
   "metadata": {
    "collapsed": false,
    "pycharm": {
     "name": "#%%\n",
     "is_executing": false
    }
   }
  },
  {
   "cell_type": "code",
   "execution_count": 25,
   "outputs": [
    {
     "name": "stdout",
     "text": [
      "False\n"
     ],
     "output_type": "stream"
    }
   ],
   "source": [
    "print(model.T_is_converged())"
   ],
   "metadata": {
    "collapsed": false,
    "pycharm": {
     "name": "#%%\n",
     "is_executing": false
    }
   }
  },
  {
   "cell_type": "code",
   "execution_count": 26,
   "outputs": [
    {
     "name": "stdout",
     "text": [
      "0 [303.38478907 314.40089614 318.99873586 320.53908257 321.08350365\n",
      " 321.31448141 321.43243925 321.5006431  321.54282599 321.56984576\n",
      " 321.587511   321.59940686 321.61043761 321.66287965 322.33093483\n",
      " 329.5960606  333.08171836 335.10754464 336.12670544 336.59624856\n",
      " 336.81149374 336.92996193 337.02863754 337.14502654 337.29998479\n",
      " 337.50932507 337.78981332 338.16475787 338.71226435 340.41853077\n",
      " 355.09765023]\n",
      "1 [303.78539738 314.73359669 319.10594226 320.39852696 320.72106775\n",
      " 320.77288732 320.75469426 320.72282079 320.69281602 320.66836593\n",
      " 320.64963862 320.63619005 320.63208906 320.69790963 321.55666262\n",
      " 329.84980352 333.87276497 336.50125159 338.03703806 338.86544641\n",
      " 339.27598235 339.44827336 339.48492256 339.44325511 339.35687959\n",
      " 339.24914209 339.1420103  339.06623401 339.13113586 340.55379618\n",
      " 355.62358558]\n",
      "2 [304.06875008 315.01004806 319.31897932 320.59369382 320.93805212\n",
      " 321.03172668 321.06183957 321.07688557 321.08852166 321.09901262\n",
      " 321.10850096 321.11713877 321.12915771 321.19913933 321.9975688\n",
      " 329.85815244 333.69987443 336.0993521  337.44801483 338.17147363\n",
      " 338.55994721 338.77774047 338.90945272 338.99584246 339.05511536\n",
      " 339.09470732 339.11849948 339.13647966 339.24180096 340.70364714\n",
      " 356.02004013]\n",
      "3 [304.0602607  314.98902945 319.28326516 320.54438784 320.88004434\n",
      " 320.96579305 320.9863214  320.98985903 320.98881175 320.98641043\n",
      " 320.98361211 320.98114516 320.98386664 321.0494806  321.87037954\n",
      " 329.88328006 333.78881537 336.25007415 337.63431133 338.36077222\n",
      " 338.72547561 338.90249706 338.98597536 339.02472459 339.04331807\n",
      " 339.05363278 339.06134543 339.07449476 339.18148233 340.66139084\n",
      " 356.00782925]\n",
      "4 [304.06764366 314.99750239 319.29238438 320.5561496  320.89522774\n",
      " 320.9843118  321.00798537 321.01468439 321.01699529 321.01819591\n",
      " 321.01917209 321.02050862 321.02681454 321.09478101 321.91058284\n",
      " 329.88148986 333.77486954 336.22601518 337.60828524 338.34109135\n",
      " 338.71721866 338.90697618 339.00154373 339.0479334  339.07004467\n",
      " 339.08003683 339.08448786 339.09237214 339.19270359 340.66777862\n",
      " 356.01842526]\n",
      "5 [304.0740446  315.00365362 319.29684105 320.55940587 320.89753628\n",
      " 320.98568482 321.00839432 321.01411135 321.01542079 321.01558576\n",
      " 321.0154796  321.01568976 321.02086776 321.08796542 321.90464412\n",
      " 329.883234   333.77790195 336.22880049 337.60916165 338.33920611\n",
      " 338.71274137 338.9008061  338.99488239 339.04192023 339.06552244\n",
      " 339.0774548  339.08390889 339.09350241 339.1949552  340.67139338\n",
      " 356.02761907]\n"
     ],
     "output_type": "stream"
    }
   ],
   "source": [
    "iter = 0\n",
    "while not model.T_is_converged():\n",
    "    model.update_K_values()\n",
    "    for i in model.components:\n",
    "        model.solve_component_mass_bal(i)\n",
    "    model.update_T_values()\n",
    "    print(iter, model.T)\n",
    "    iter += 1\n",
    "    "
   ],
   "metadata": {
    "collapsed": false,
    "pycharm": {
     "name": "#%%\n",
     "is_executing": false
    }
   }
  },
  {
   "cell_type": "code",
   "execution_count": 27,
   "outputs": [
    {
     "name": "stdout",
     "text": [
      "[  0. 800. 800. 800. 800. 800. 800. 800. 800. 800. 800. 800. 800. 800.\n",
      " 800. 800. 800. 800. 800. 800. 800. 800. 800. 800. 800. 800. 800. 800.\n",
      " 800. 800. 800.]\n",
      "[  0.         703.11748503 696.15486763 696.4206404  696.77798903\n",
      " 696.91745481 696.98240932 697.0278988  697.06918374 697.11043946\n",
      " 697.15294299 697.19636286 697.23162897 697.15027414 695.67151572\n",
      " 680.28006379 715.20277001 733.46530151 746.39991806 754.16749952\n",
      " 758.424039   760.65470363 761.80594072 762.40245158 762.71646904\n",
      " 762.8846854  762.97426735 763.00781726 762.81503165 759.53584958\n",
      " 720.15496888]\n"
     ],
     "output_type": "stream"
    }
   ],
   "source": [
    "print(model.V)\n",
    "model.solve_energy_balances()\n",
    "print(model.V)"
   ],
   "metadata": {
    "collapsed": false,
    "pycharm": {
     "name": "#%%\n",
     "is_executing": false
    }
   }
  },
  {
   "cell_type": "code",
   "execution_count": 28,
   "outputs": [
    {
     "name": "stdout",
     "text": [
      "False\n",
      "1 5 [  0.         721.38834597 777.85105549 805.30237075 817.38654678\n",
      " 822.46512566 824.59740573 825.49559356 825.87414925 826.03273901\n",
      " 826.09752978 826.12050394 826.1080965  825.88906581 823.51372777\n",
      " 802.33963229 804.80084779 826.21639332 842.99613818 853.85307651\n",
      " 860.10125815 863.46734681 865.21676412 866.10759834 866.55505605\n",
      " 866.77711894 866.88394405 866.90712819 866.56069072 862.03200725\n",
      " 817.3039594 ]\n",
      "2 10 [  0.         712.04261049 748.60701611 768.62692913 779.18389101\n",
      " 784.56714356 787.32028642 788.73732592 789.4707598  789.85293116\n",
      " 790.0546242  790.16350304 790.21620375 790.11979452 788.44419748\n",
      " 770.71461361 794.56548234 815.99422672 831.3713764  840.6184528\n",
      " 845.6379949  848.21980425 849.51545247 850.16143076 850.48531579\n",
      " 850.64963035 850.73187561 850.74450011 850.36754206 845.51150639\n",
      " 797.96716448]\n",
      "3 14 [  0.         714.59505957 759.33702275 782.6379998  794.22095408\n",
      " 799.81117549 802.52572748 803.854202   804.50884891 804.83470307\n",
      " 805.00016285 805.08673086 805.12390562 805.00164072 803.18019187\n",
      " 784.62899975 803.72015133 825.48971909 841.23893401 850.73998043\n",
      " 855.89613004 858.53919241 859.85592749 860.50489886 860.82623111\n",
      " 860.9887155  861.07108713 861.08056243 860.67743008 855.7213366\n",
      " 808.0930213 ]\n",
      "4 17 [  0.         713.54651494 755.71904273 778.04260704 789.38917131\n",
      " 794.98319013 797.75655557 799.14505714 799.84909941 800.21341183\n",
      " 800.40831471 800.51716087 800.57130992 800.46633576 798.70307655\n",
      " 780.46766595 801.90472413 823.63061124 839.20695754 848.53005907\n",
      " 853.5520823  856.10385968 857.35857083 857.96354601 858.25260415\n",
      " 858.39229169 858.46214974 858.47276631 858.08768437 853.13335005\n",
      " 805.27464596]\n",
      "5 19 [  0.         713.88380958 757.0244608  779.69675949 791.1274105\n",
      " 796.72901342 799.4983615  800.88570289 801.59096455 801.95594381\n",
      " 802.14913328 802.25352726 802.30102026 802.18753717 800.40744411\n",
      " 782.07655216 802.87888538 824.65390969 840.29563135 849.67419856\n",
      " 854.7355137  857.31230702 858.58043451 859.18891816 859.47252223\n",
      " 859.59851096 859.647163   859.62952139 859.20920739 854.23329796\n",
      " 806.45682761]\n",
      "6 20 [  0.         713.75629968 756.52386909 779.07817158 790.51032835\n",
      " 796.1483435  798.95197261 800.35984646 801.07152768 801.43242586\n",
      " 801.6151691  801.70608057 801.73933072 801.61259608 799.82646215\n",
      " 781.57082855 802.6206777  824.38430934 840.01432342 849.38956034\n",
      " 854.45629323 857.04380854 858.32425373 858.94371666 859.23480042\n",
      " 859.36324069 859.40843054 859.3815313  858.94891289 853.9582712\n",
      " 806.08060775]\n",
      "7 21 [  0.         713.81288343 756.74422836 779.35395932 790.76903147\n",
      " 796.35490636 799.09717371 800.44858073 801.11452941 801.44140345\n",
      " 801.60046969 801.67593353 801.70018523 801.57230136 799.81470451\n",
      " 781.68663524 802.62724601 824.36265152 839.97799897 849.34907689\n",
      " 854.41998567 857.01873586 858.31674244 858.95962269 859.27950561\n",
      " 859.44137686 859.52333196 859.53434479 859.1359152  854.1598441\n",
      " 806.29792274]\n",
      "8 21 [  0.         713.78736672 756.63871348 779.18714214 790.56801908\n",
      " 796.14417301 798.89400678 800.26286913 800.9502435  801.29851468\n",
      " 801.47666839 801.56790161 801.60436544 801.48495349 799.73024791\n",
      " 781.57836489 802.53479043 824.26087289 839.86810029 849.23240784\n",
      " 854.29767266 856.89181407 858.18643455 858.82758819 859.14802521\n",
      " 859.31346631 859.40275416 859.42527344 859.04136564 854.08219826\n",
      " 806.21902159]\n",
      "9 21 [  0.         713.79916038 756.68740299 779.27230688 790.68325675\n",
      " 796.28011831 799.04123571 800.41340175 801.09818295 801.44009932\n",
      " 801.60997823 801.69241093 801.72044093 801.5930127  799.82658902\n",
      " 781.65242266 802.5907152  824.32255584 839.93447624 849.30166612\n",
      " 854.36796628 856.96161794 858.2545897  858.89325923 859.21068344\n",
      " 859.372919   859.45917309 859.47904866 859.09280289 854.12938364\n",
      " 806.26438069]\n",
      "10 21 [  0.         713.78974347 756.66177255 779.2282317  790.62112488\n",
      " 796.2023448  798.95125737 800.31499461 800.99495235 801.33513542\n",
      " 801.50567587 801.59043653 801.62185592 801.49892409 799.74202468\n",
      " 781.59209726 802.54350724 824.27142253 839.88033471 849.24570768\n",
      " 854.31120928 856.90475799 858.19805185 858.83730502 859.15551695\n",
      " 859.31878241 859.40641598 859.42814617 859.04420454 854.0842232\n",
      " 806.22377286]\n",
      "11 21 [  0.         713.79769916 756.67974593 779.25656679 790.65984526\n",
      " 796.25083951 799.00846167 800.37950335 801.0651559  801.40937355\n",
      " 801.58238167 801.66824095 801.69959611 801.57518611 799.81194298\n",
      " 781.641643   802.58221664 824.31357502 839.92525314 849.29242174\n",
      " 854.35883556 856.95263582 858.24570717 858.88437464 859.20168946\n",
      " 859.36376344 859.44990575 859.46980023 859.08361457 854.1206815\n",
      " 806.25691353]\n",
      "12 21 [  0.         713.7913216  756.66565341 779.23541915 790.6320498\n",
      " 796.21685323 798.96876944 800.33466382 801.01582785 801.35630613\n",
      " 801.52637597 801.61010253 801.64013117 801.51556007 799.75627459\n",
      " 781.60185704 802.55118925 824.27974868 839.88920193 849.25495581\n",
      " 854.32068941 856.91435399 858.20766985 858.84685869 859.16492152\n",
      " 859.32795786 859.41528855 859.43662742 859.05220481 854.09165254\n",
      " 806.23044947]\n",
      "13 21 [  0.         713.79631834 756.67679291 779.25189591 790.65329091\n",
      " 796.2423525  798.99812428 800.36753162 801.05187739 801.39518529\n",
      " 801.56769996 801.65345579 801.68504591 801.56121666 799.79942314\n",
      " 781.63291129 802.57530786 824.30606985 839.91727573 849.28414562\n",
      " 854.35041792 856.94419332 858.2373205  858.87610069 859.19357297\n",
      " 859.35584623 859.44223103 859.46241661 859.0765914  854.11415617\n",
      " 806.2510241 ]\n",
      "14 21 [  0.         713.79247166 756.66809778 779.239043   790.63681729\n",
      " 796.22273884 798.97574435 800.34267292 801.02477466 801.36605022\n",
      " 801.53674176 801.62089457 801.65114413 801.52652552 799.76641577\n",
      " 781.60903679 802.55679681 824.285856   839.89570723 849.26171535\n",
      " 854.32757342 856.92126677 858.21454454 858.85364593 859.17157997\n",
      " 859.33444753 859.42156597 859.44264291 859.05789908 854.09691888\n",
      " 806.23523898]\n"
     ],
     "output_type": "stream"
    }
   ],
   "source": [
    "print(model.flow_rates_converged())\n",
    "outer_loop = 0\n",
    "inner_loop = 0\n",
    "while not model.flow_rates_converged():\n",
    "    outer_loop += 1\n",
    "    for i in model.components:\n",
    "        model.solve_component_mass_bal(i)\n",
    "    model.update_T_values()\n",
    "    while not model.T_is_converged():\n",
    "        inner_loop += 1\n",
    "        model.update_K_values()\n",
    "        for i in model.components:\n",
    "            model.solve_component_mass_bal(i)\n",
    "        model.update_T_values()\n",
    "    model.solve_energy_balances()\n",
    "    print(outer_loop, inner_loop, model.V)"
   ],
   "metadata": {
    "collapsed": false,
    "pycharm": {
     "name": "#%%\n",
     "is_executing": false
    }
   }
  },
  {
   "cell_type": "code",
   "execution_count": 29,
   "outputs": [
    {
     "name": "stdout",
     "text": [
      "{'n-Butane': array([4.99997739e-01, 2.73168224e-01, 1.72281968e-01, 1.44741057e-01,\n",
      "       1.36793862e-01, 1.34302003e-01, 1.33437597e-01, 1.33104357e-01,\n",
      "       1.32963465e-01, 1.32899729e-01, 1.32869593e-01, 1.32853869e-01,\n",
      "       1.32830512e-01, 1.32623417e-01, 1.30194165e-01, 1.09996997e-01,\n",
      "       6.09728046e-02, 3.17657833e-02, 1.59671340e-02, 7.87413948e-03,\n",
      "       3.84547961e-03, 1.86884299e-03, 9.05935251e-04, 4.38499666e-04,\n",
      "       2.11973375e-04, 1.02286123e-04, 4.91945909e-05, 2.34971753e-05,\n",
      "       1.10333509e-05, 4.85320985e-06, 1.50709632e-06]), 'n-Pentane': array([0.50001358, 0.84763154, 0.88469737, 0.88304886, 0.87700938,\n",
      "       0.87264714, 0.87011657, 0.86875955, 0.86805716, 0.86770029,\n",
      "       0.86752048, 0.8674204 , 0.86723229, 0.86541323, 0.8439952 ,\n",
      "       0.66787263, 0.71936901, 0.7503811 , 0.7672657 , 0.77594541,\n",
      "       0.78027285, 0.78239575, 0.78342679, 0.78392221, 0.78415506,\n",
      "       0.7842566 , 0.78427212, 0.78400507, 0.78074902, 0.74426444,\n",
      "       0.49999095]), 'n-Octane': array([4.36196482e-18, 1.56357165e-16, 2.02795947e-15, 2.50398134e-14,\n",
      "       3.08801091e-13, 3.82059117e-12, 4.73864958e-11, 5.88583252e-10,\n",
      "       7.31645328e-09, 9.09850262e-08, 1.13169420e-06, 1.40775135e-05,\n",
      "       1.75082345e-04, 2.17112065e-03, 2.59772918e-02, 2.22204123e-01,\n",
      "       2.19762966e-01, 2.17981249e-01, 2.16910095e-01, 2.16331177e-01,\n",
      "       2.16034971e-01, 2.15887245e-01, 2.15814101e-01, 2.15777501e-01,\n",
      "       2.15758579e-01, 2.15749562e-01, 2.15764889e-01, 2.16030414e-01,\n",
      "       2.19269206e-01, 2.55735021e-01, 5.00000000e-01])}\n",
      "{'n-Butane': array([7.66376702e-01, 5.60395077e-01, 3.93086678e-01, 3.40514197e-01,\n",
      "       3.24482278e-01, 3.19267359e-01, 3.17395092e-01, 3.16650760e-01,\n",
      "       3.16328618e-01, 3.16180650e-01, 3.16110244e-01, 3.16076334e-01,\n",
      "       3.16061645e-01, 3.16076902e-01, 3.16370963e-01, 3.19441080e-01,\n",
      "       1.92229091e-01, 1.05352979e-01, 5.44568137e-02, 2.72464938e-02,\n",
      "       1.34029947e-02, 6.53688338e-03, 3.17431045e-03, 1.53775683e-03,\n",
      "       7.43664037e-04, 3.58920184e-04, 1.72642583e-04, 8.24856711e-05,\n",
      "       3.88555310e-05, 1.77253515e-05, 7.34324266e-06]), 'n-Pentane': array([0.23363568, 0.56041283, 0.66388396, 0.68724863, 0.68928292,\n",
      "       0.68763888, 0.68611489, 0.68516933, 0.68464897, 0.68437694,\n",
      "       0.68423845, 0.68416854, 0.68412554, 0.68399949, 0.68267458,\n",
      "       0.66794593, 0.79337572, 0.87904653, 0.92924394, 0.95608401,\n",
      "       0.96973941, 0.97651005, 0.97982134, 0.9814258 , 0.98219405,\n",
      "       0.98255209, 0.98270465, 0.98272642, 0.98236204, 0.9779718 ,\n",
      "       0.92603457]), 'n-Octane': array([8.39940418e-20, 4.88886932e-18, 7.60091342e-17, 9.89229163e-16,\n",
      "       1.23742002e-14, 1.53675099e-13, 1.90791387e-12, 2.37042603e-11,\n",
      "       2.94679544e-10, 3.66461194e-09, 4.55816682e-08, 5.67016080e-07,\n",
      "       7.05356544e-06, 8.77113422e-05, 1.08526638e-03, 1.26828080e-02,\n",
      "       1.45208409e-02, 1.57774886e-02, 1.65141026e-02, 1.69080299e-02,\n",
      "       1.71084673e-02, 1.72078574e-02, 1.72564726e-02, 1.72800374e-02,\n",
      "       1.72913472e-02, 1.72968352e-02, 1.73016462e-02, 1.73325442e-02,\n",
      "       1.76946535e-02, 2.20566394e-02, 7.39516567e-02])}\n"
     ],
     "output_type": "stream"
    }
   ],
   "source": [
    "x = {}\n",
    "y = {}\n",
    "for i in model.components:\n",
    "    x[i] = model.l[i][:]/model.L[:]\n",
    "    y[i] = model.K[i]*x[i]\n",
    "\n",
    "print(x)\n",
    "print(y)"
   ],
   "metadata": {
    "collapsed": false,
    "pycharm": {
     "name": "#%%\n",
     "is_executing": false
    }
   }
  },
  {
   "cell_type": "code",
   "execution_count": 30,
   "outputs": [
    {
     "data": {
      "text/plain": "<matplotlib.legend.Legend at 0x23b35c23c88>"
     },
     "metadata": {},
     "output_type": "execute_result",
     "execution_count": 30
    },
    {
     "data": {
      "text/plain": "<Figure size 432x288 with 1 Axes>",
      "image/png": "[encoded data removed]"
     },
     "metadata": {
      "needs_background": "light"
     },
     "output_type": "display_data"
    },
    {
     "data": {
      "text/plain": "<Figure size 432x288 with 1 Axes>",
      "image/png": "[encoded data removed]"
     },
     "metadata": {
      "needs_background": "light"
     },
     "output_type": "display_data"
    },
    {
     "data": {
      "text/plain": "<Figure size 432x288 with 1 Axes>",
      "image/png": "[encoded data removed]"
     },
     "metadata": {
      "needs_background": "light"
     },
     "output_type": "display_data"
    }
   ],
   "source": [
    "import matplotlib.pyplot as plt\n",
    "fig = plt.figure(1)\n",
    "ax = fig.add_subplot(111)\n",
    "ax.plot(model.stages, model.T, 'o')\n",
    "ax.set_xlabel('Stage Number')\n",
    "ax.set_ylabel('Temperature [K]')\n",
    "\n",
    "# plot liquid-phase mole fractions\n",
    "fig2 = plt.figure(2)\n",
    "ax2 = fig2.add_subplot(111)\n",
    "# calculate mole fractions\n",
    "for i in model.components:\n",
    "    ax2.plot(model.stages, x[i], label=i)\n",
    "ax2.set_ylabel('Liquid phase mole fraction')\n",
    "ax2.set_xlabel('Stage Number')\n",
    "ax2.legend()\n",
    "\n",
    "\n",
    "fig3 = plt.figure(3)\n",
    "ax3 = fig3.add_subplot(111)\n",
    "# calculate mole fractions\n",
    "for i in model.components:\n",
    "    ax3.plot(model.stages, y[i], label=i)\n",
    "ax3.set_ylabel('Vapor phase mole fraction')\n",
    "ax3.set_xlabel('Stage Number')\n",
    "ax3.legend()"
   ],
   "metadata": {
    "collapsed": false,
    "pycharm": {
     "name": "#%%\n",
     "is_executing": false
    }
   }
  }
 ],
 "metadata": {
  "kernelspec": {
   "display_name": "PyCharm (distillation)",
   "language": "python",
   "name": "pycharm-366b8f7b"
  },
  "language_info": {
   "codemirror_mode": {
    "name": "ipython",
    "version": 3
   },
   "file_extension": ".py",
   "mimetype": "text/x-python",
   "name": "python",
   "nbconvert_exporter": "python",
   "pygments_lexer": "ipython3",
   "version": "3.7.4"
  },
  "pycharm": {
   "stem_cell": {
    "cell_type": "raw",
    "source": [],
    "metadata": {
     "collapsed": false
    }
   }
  }
 },
 "nbformat": 4,
 "nbformat_minor": 4
}
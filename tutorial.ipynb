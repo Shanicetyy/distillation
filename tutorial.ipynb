{
 "cells": [
  {
   "cell_type": "code",
   "execution_count": 15,
   "outputs": [],
   "source": [
    "import distillation.amundson_1958 as am\n",
    "model = am.Model(\n",
    "   components=['n-Butane', 'n-Pentane', 'n-Octane'],\n",
    "    F=1000., # feed flow rate, kmol/h\n",
    "    P=2*1e5, # feed pressure, Pa\n",
    "    z_feed=[0.2, 0.5, 0.3],  # composition of feed\n",
    "    RR=1.,  # reflux ratio, L/D\n",
    "    D=400., # distillate flow rate, kmol/h\n",
    "    N=3,    # number of equilibrium contacts\n",
    "    feed_stage=2,  # feed stage\n",
    ")"
   ],
   "metadata": {
    "collapsed": false,
    "pycharm": {
     "name": "#%%\n",
     "is_executing": false
    }
   }
  },
  {
   "cell_type": "code",
   "execution_count": 16,
   "outputs": [
    {
     "name": "stdout",
     "text": [
      "Setting DePriester parameters for n-Butane:\n",
      "             a_T1 [deg Rankine^2]: -1280557.0\n",
      "             a_T2 [deg Rankine]: 0.0\n",
      "             a_T6 [dimensionless]: 7.94986\n",
      "             a_p1 [dimensionless]: -0.96455\n",
      "             a_p2 [psia^2]: 0.0\n",
      "             a_p3 [psia]: 0.0\n",
      "     K value at 300 K, 1 bar=  2.661186999988651\n",
      "Setting DePriester parameters for n-Pentane:\n",
      "             a_T1 [deg Rankine^2]: -1524891.0\n",
      "             a_T2 [deg Rankine]: 0.0\n",
      "             a_T6 [dimensionless]: 7.33129\n",
      "             a_p1 [dimensionless]: -0.89143\n",
      "             a_p2 [psia^2]: 0.0\n",
      "             a_p3 [psia]: 0.0\n",
      "     K value at 300 K, 1 bar=  0.7541583496653457\n",
      "Setting DePriester parameters for n-Octane:\n",
      "             a_T1 [deg Rankine^2]: 0.0\n",
      "             a_T2 [deg Rankine]: -7646.81641\n",
      "             a_T6 [dimensionless]: 12.48457\n",
      "             a_p1 [dimensionless]: -0.73152\n",
      "             a_p2 [psia^2]: 0.0\n",
      "             a_p3 [psia]: 0.0\n",
      "     K value at 300 K, 1 bar=  0.026447701262845617\n",
      "Setting heat capacity constants for n-Butane (taken from Perrys):\n",
      "            1: 191030.0\n",
      "            2: -1675.0\n",
      "            3: 12.5\n",
      "            4: -0.03874\n",
      "            5: 4.6121e-05\n",
      "             value at 300K [J/kmol/K]= 141130.10000000015\n",
      "Setting heat capacity constants for n-Pentane (taken from Perrys):\n",
      "            1: 159080.0\n",
      "            2: -270.5\n",
      "            3: 0.99537\n",
      "            4: 0.0\n",
      "            5: 0.0\n",
      "             value at 300K [J/kmol/K]= 167513.3\n",
      "Setting heat capacity constants for n-Octane (taken from Perrys):\n",
      "            1: 224830.0\n",
      "            2: -186.63\n",
      "            3: 0.95891\n",
      "            4: 0.0\n",
      "            5: 0.0\n",
      "             value at 300K [J/kmol/K]= 255142.90000000002\n",
      "Setting heat capacity for n-Butane to be 4R (ideal polyatomic gas)\n",
      "Setting heat capacity for n-Pentane to be 4R (ideal polyatomic gas)\n",
      "Setting heat capacity for n-Octane to be 4R (ideal polyatomic gas)\n",
      "Assuming heat of vaporization of n-Butane is constant at 2.240000e+01 kJ/mol\n",
      "Assuming heat of vaporization of n-Pentane is constant at 2.580000e+01 kJ/mol\n",
      "Assuming heat of vaporization of n-Octane is constant at 3.441000e+01 kJ/mol\n"
     ],
     "output_type": "stream"
    }
   ],
   "source": [
    "model.add_parameters(verbose=True)"
   ],
   "metadata": {
    "collapsed": false,
    "pycharm": {
     "name": "#%%\n",
     "is_executing": false
    }
   }
  },
  {
   "cell_type": "code",
   "execution_count": 17,
   "outputs": [
    {
     "name": "stdout",
     "text": [
      "300.0\n",
      "325.9228553172105\n"
     ],
     "output_type": "stream"
    }
   ],
   "source": [
    "print(model.T_feed)\n",
    "model.T_feed = model.bubble_T_feed()\n",
    "print(model.T_feed)"
   ],
   "metadata": {
    "collapsed": false,
    "pycharm": {
     "name": "#%%\n",
     "is_executing": false
    }
   }
  },
  {
   "cell_type": "code",
   "execution_count": 18,
   "outputs": [
    {
     "name": "stdout",
     "text": [
      "[0. 0. 0. 0. 0.]\n",
      "[325.92285532 325.92285532 325.92285532 325.92285532 325.92285532]\n"
     ],
     "output_type": "stream"
    }
   ],
   "source": [
    "print(model.T)\n",
    "for stage in model.stages:\n",
    "    model.T[stage] = model.T_feed\n",
    "print(model.T)"
   ],
   "metadata": {
    "collapsed": false,
    "pycharm": {
     "name": "#%% initialize stage temperatures\n",
     "is_executing": false
    }
   }
  },
  {
   "cell_type": "code",
   "execution_count": 5,
   "outputs": [
    {
     "name": "stdout",
     "text": [
      "[0. 0. 0. 0. 0.]\n",
      "[0. 0. 0. 0. 0.]\n",
      "[ 400.  400. 1400. 1400.  600.]\n",
      "[  0. 800. 800. 800. 800.]\n"
     ],
     "output_type": "stream"
    }
   ],
   "source": [
    "print(model.L)\n",
    "print(model.V)\n",
    "model.initialize_flow_rates()\n",
    "print(model.L)\n",
    "print(model.V)"
   ],
   "metadata": {
    "collapsed": false,
    "pycharm": {
     "name": "#%%\n",
     "is_executing": false
    }
   }
  },
  {
   "cell_type": "code",
   "execution_count": 6,
   "outputs": [
    {
     "name": "stdout",
     "text": [
      "[0. 0. 0. 0. 0.]\n",
      "[0. 0. 0. 0. 0.]\n",
      "[0. 0. 0. 0. 0.]\n",
      "[2.66708293 2.66708293 2.66708293 2.66708293 2.66708293]\n",
      "[0.90369028 0.90369028 0.90369028 0.90369028 0.90369028]\n",
      "[0.04912757 0.04912757 0.04912757 0.04912757 0.04912757]\n"
     ],
     "output_type": "stream"
    }
   ],
   "source": [
    "for i in model.components:\n",
    "    print(model.K[i])\n",
    "model.update_K_values()\n",
    "for i in model.components:\n",
    "    print(model.K[i])"
   ],
   "metadata": {
    "collapsed": false,
    "pycharm": {
     "name": "#%%\n",
     "is_executing": false
    }
   }
  },
  {
   "cell_type": "code",
   "execution_count": 7,
   "outputs": [
    {
     "name": "stdout",
     "text": [
      "n-Butane [0. 0. 0. 0. 0.]\n",
      "n-Pentane [0. 0. 0. 0. 0.]\n",
      "n-Octane [0. 0. 0. 0. 0.]\n",
      "n-Butane [179.60263554  67.34047646 162.03112415  92.93264798  20.39736446]\n",
      "n-Pentane [171.96923989 190.29665687 701.52941836 723.2817078  328.03076011]\n",
      "n-Octane [  0.40561865   8.25643611 308.55577913 319.21884018 299.59438135]\n"
     ],
     "output_type": "stream"
    }
   ],
   "source": [
    "for i in model.components:\n",
    "    print(i, model.l[i])\n",
    "for i in model.components:\n",
    "    model.solve_component_mass_bal(i)\n",
    "for i in model.components:\n",
    "    print(i, model.l[i])"
   ],
   "metadata": {
    "collapsed": false,
    "pycharm": {
     "name": "#%%\n",
     "is_executing": false
    }
   }
  },
  {
   "cell_type": "code",
   "execution_count": 8,
   "outputs": [
    {
     "name": "stdout",
     "text": [
      "[325.92285532 325.92285532 325.92285532 325.92285532 325.92285532]\n",
      "[303.72023684 315.23211869 329.11529249 334.36700487 349.22473025]\n"
     ],
     "output_type": "stream"
    }
   ],
   "source": [
    "print(model.T)\n",
    "for stage in model.stages:\n",
    "    model.T[stage] = model.bubble_T(stage)\n",
    "print(model.T)"
   ],
   "metadata": {
    "collapsed": false,
    "pycharm": {
     "name": "#%%\n",
     "is_executing": false
    }
   }
  },
  {
   "cell_type": "code",
   "execution_count": 9,
   "outputs": [
    {
     "name": "stdout",
     "text": [
      "False\n"
     ],
     "output_type": "stream"
    }
   ],
   "source": [
    "print(model.T_is_converged())"
   ],
   "metadata": {
    "collapsed": false,
    "pycharm": {
     "name": "#%%\n",
     "is_executing": false
    }
   }
  },
  {
   "cell_type": "code",
   "execution_count": 10,
   "outputs": [
    {
     "name": "stdout",
     "text": [
      "0 [304.79769022 316.54177868 328.91284137 334.81286613 352.56298286]\n",
      "1 [305.08689835 316.76725088 328.95365929 334.90881225 353.15598321]\n",
      "2 [305.14872565 316.81887903 328.97440211 334.94137048 353.28395853]\n",
      "3 [305.16485337 316.83280482 328.9813168  334.95214755 353.31722965]\n",
      "4 [305.16947901 316.83684806 328.98344049 334.95553793 353.32675925]\n"
     ],
     "output_type": "stream"
    }
   ],
   "source": [
    "iter = 0\n",
    "while not model.T_is_converged():\n",
    "    model.update_K_values()\n",
    "    for i in model.components:\n",
    "        model.solve_component_mass_bal(i)\n",
    "    for stage in model.stages:\n",
    "        model.T[stage] = model.bubble_T(stage)\n",
    "    print(iter, model.T)\n",
    "    iter += 1\n",
    "    "
   ],
   "metadata": {
    "collapsed": false,
    "pycharm": {
     "name": "#%%\n",
     "is_executing": false
    }
   }
  },
  {
   "cell_type": "code",
   "execution_count": 11,
   "outputs": [
    {
     "name": "stdout",
     "text": [
      "[  0. 800. 800. 800. 800.]\n",
      "[  0.         717.41518111 695.84648532 722.41305238 705.65881365]\n"
     ],
     "output_type": "stream"
    }
   ],
   "source": [
    "print(model.V)\n",
    "model.solve_energy_balances()\n",
    "print(model.V)"
   ],
   "metadata": {
    "collapsed": false,
    "pycharm": {
     "name": "#%%\n",
     "is_executing": false
    }
   }
  },
  {
   "cell_type": "code",
   "execution_count": 12,
   "outputs": [
    {
     "name": "stdout",
     "text": [
      "False\n",
      "1 0 [  0.         738.292652   767.77115514 773.32703543 751.74120703]\n",
      "2 0 [  0.         730.02817097 744.02239833 761.15761768 738.97199799]\n",
      "3 0 [  0.         732.51708636 752.20436954 766.83403041 744.44384013]\n",
      "4 0 [  0.         731.53649421 749.45795577 765.35163755 742.98345861]\n",
      "5 0 [  0.         731.82299258 750.42905567 766.00933955 743.63734869]\n",
      "6 0 [  0.         731.70663379 750.1096647  765.83430365 743.46943734]\n",
      "7 0 [  0.         731.73982281 750.2240964  765.91133408 743.54707015]\n",
      "8 0 [  0.         731.72606726 750.18679166 765.89085414 743.52767455]\n",
      "9 0 [  0.         731.72992374 750.20024498 765.89991523 743.53686776]\n"
     ],
     "output_type": "stream"
    }
   ],
   "source": [
    "print(model.flow_rates_converged())\n",
    "outer_loop = 0\n",
    "inner_loop = 0\n",
    "while not model.flow_rates_converged():\n",
    "    outer_loop += 1\n",
    "    for i in model.components:\n",
    "        model.solve_component_mass_bal(i)\n",
    "    for stage in model.stages:\n",
    "        model.bubble_T(stage)\n",
    "    while not model.T_is_converged():\n",
    "        inner_loop += 1\n",
    "        model.update_K_values()\n",
    "        for i in model.components:\n",
    "            model.solve_component_mass_bal(i)\n",
    "        for stage in model.stages:\n",
    "            model.bubble_T(stage)\n",
    "    model.solve_energy_balances()\n",
    "    print(outer_loop, inner_loop, model.V)"
   ],
   "metadata": {
    "collapsed": false,
    "pycharm": {
     "name": "#%%\n",
     "is_executing": false
    }
   }
  },
  {
   "cell_type": "code",
   "execution_count": 13,
   "outputs": [
    {
     "name": "stdout",
     "text": [
      "{'n-Butane': array([0.46809899, 0.23827382, 0.12628367, 0.06415599, 0.02126734]), 'n-Pentane': array([0.51323913, 0.80356382, 0.66139621, 0.69481466, 0.49117392]), 'n-Octane': array([0.00081447, 0.0263443 , 0.22958844, 0.26035483, 0.49945702])}\n",
      "{'n-Butane': array([0.73971797, 0.51175545, 0.3608186 , 0.20855368, 0.09876638]), 'n-Pentane': array([0.24869112, 0.56110551, 0.64877264, 0.79475099, 0.85915399]), 'n-Octane': array([1.64870056e-05, 8.90433566e-04, 1.27321695e-02, 1.81756036e-02,\n",
      "       6.74112130e-02])}\n"
     ],
     "output_type": "stream"
    }
   ],
   "source": [
    "x = {}\n",
    "y = {}\n",
    "for i in model.components:\n",
    "    x[i] = model.l[i][:]/model.L[:]\n",
    "    y[i] = model.K[i]*x[i]\n",
    "\n",
    "print(x)\n",
    "print(y)"
   ],
   "metadata": {
    "collapsed": false,
    "pycharm": {
     "name": "#%%\n",
     "is_executing": false
    }
   }
  },
  {
   "cell_type": "code",
   "execution_count": 14,
   "outputs": [
    {
     "data": {
      "text/plain": "<matplotlib.legend.Legend at 0x19ff5e5a2c8>"
     },
     "metadata": {},
     "output_type": "execute_result",
     "execution_count": 14
    },
    {
     "data": {
      "text/plain": "<Figure size 432x288 with 1 Axes>",
      "image/png": "[encoded data removed]"
     },
     "metadata": {
      "needs_background": "light"
     },
     "output_type": "display_data"
    },
    {
     "data": {
      "text/plain": "<Figure size 432x288 with 1 Axes>",
      "image/png": "[encoded data removed]"
     },
     "metadata": {
      "needs_background": "light"
     },
     "output_type": "display_data"
    },
    {
     "data": {
      "text/plain": "<Figure size 432x288 with 1 Axes>",
      "image/png": "[encoded data removed]"
     },
     "metadata": {
      "needs_background": "light"
     },
     "output_type": "display_data"
    }
   ],
   "source": [
    "import matplotlib.pyplot as plt\n",
    "fig = plt.figure(1)\n",
    "ax = fig.add_subplot(111)\n",
    "ax.plot(model.stages, model.T, 'o')\n",
    "ax.set_xlabel('Stage Number')\n",
    "ax.set_ylabel('Temperature [K]')\n",
    "\n",
    "# plot liquid-phase mole fractions\n",
    "fig2 = plt.figure(2)\n",
    "ax2 = fig2.add_subplot(111)\n",
    "# calculate mole fractions\n",
    "for i in model.components:\n",
    "    ax2.plot(model.stages, x[i], label=i)\n",
    "ax2.set_ylabel('Liquid phase mole fraction')\n",
    "ax2.set_xlabel('Stage Number')\n",
    "ax2.legend()\n",
    "\n",
    "\n",
    "fig3 = plt.figure(3)\n",
    "ax3 = fig3.add_subplot(111)\n",
    "# calculate mole fractions\n",
    "for i in model.components:\n",
    "    ax3.plot(model.stages, y[i], label=i)\n",
    "ax3.set_ylabel('Vapor phase mole fraction')\n",
    "ax3.set_xlabel('Stage Number')\n",
    "ax3.legend()"
   ],
   "metadata": {
    "collapsed": false,
    "pycharm": {
     "name": "#%%\n",
     "is_executing": false
    }
   }
  }
 ],
 "metadata": {
  "kernelspec": {
   "display_name": "PyCharm (distillation)",
   "language": "python",
   "name": "pycharm-366b8f7b"
  },
  "language_info": {
   "codemirror_mode": {
    "name": "ipython",
    "version": 3
   },
   "file_extension": ".py",
   "mimetype": "text/x-python",
   "name": "python",
   "nbconvert_exporter": "python",
   "pygments_lexer": "ipython3",
   "version": "3.7.4"
  },
  "pycharm": {
   "stem_cell": {
    "cell_type": "raw",
    "source": [],
    "metadata": {
     "collapsed": false
    }
   }
  }
 },
 "nbformat": 4,
 "nbformat_minor": 4
}
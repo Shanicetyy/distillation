{
 "cells": [
  {
   "cell_type": "markdown",
   "source": [
    "Tutorial\n",
    "========"
   ],
   "metadata": {
    "collapsed": false,
    "pycharm": {
     "name": "#%% md\n"
    }
   }
  },
  {
   "cell_type": "code",
   "execution_count": 2,
   "metadata": {
    "pycharm": {
     "is_executing": false
    }
   },
   "outputs": [],
   "source": [
    "import distillation.amundson_1958 as am"
   ]
  },
  {
   "cell_type": "code",
   "execution_count": 3,
   "outputs": [],
   "source": [
    "model = am.Model(\n",
    "    components = ['n-Butane', 'n-Pentane', 'n-Octane'], # name of components\n",
    "    F = 1000.,  # feed flow rate [kmol/h]\n",
    "    P = 101325*2., # pressure [Pa]\n",
    "    z_feed = [0.2, 0.5, 0.3],  # feed mole fractions\n",
    "    RR=1., # reflux ratio (L/D)\n",
    "    D=400., # distillate rate (L/D)\n",
    "    N=30, # number of equilibrium stages (does not include total condenser)\n",
    "    feed_stage=15 # Feed equilibrium stage\n",
    ")"
   ],
   "metadata": {
    "collapsed": false,
    "pycharm": {
     "name": "#%%\n",
     "is_executing": false
    }
   }
  },
  {
   "cell_type": "code",
   "execution_count": 4,
   "outputs": [
    {
     "name": "stdout",
     "text": [
      "Setting DePriester parameters for n-Butane:\n",
      "             a_T1 [deg Rankine^2]: -1280557.0\n",
      "             a_T2 [deg Rankine]: 0.0\n",
      "             a_T6 [dimensionless]: 7.94986\n",
      "             a_p1 [dimensionless]: -0.96455\n",
      "             a_p2 [psia^2]: 0.0\n",
      "             a_p3 [psia]: 0.0\n",
      "     K value at 300 K, 1 bar=  2.661186999988651\n",
      "Setting DePriester parameters for n-Pentane:\n",
      "             a_T1 [deg Rankine^2]: -1524891.0\n",
      "             a_T2 [deg Rankine]: 0.0\n",
      "             a_T6 [dimensionless]: 7.33129\n",
      "             a_p1 [dimensionless]: -0.89143\n",
      "             a_p2 [psia^2]: 0.0\n",
      "             a_p3 [psia]: 0.0\n",
      "     K value at 300 K, 1 bar=  0.7541583496653457\n",
      "Setting DePriester parameters for n-Octane:\n",
      "             a_T1 [deg Rankine^2]: 0.0\n",
      "             a_T2 [deg Rankine]: -7646.81641\n",
      "             a_T6 [dimensionless]: 12.48457\n",
      "             a_p1 [dimensionless]: -0.73152\n",
      "             a_p2 [psia^2]: 0.0\n",
      "             a_p3 [psia]: 0.0\n",
      "     K value at 300 K, 1 bar=  0.026447701262845617\n",
      "Setting heat capacity constants for n-Butane (taken from Perrys):\n",
      "            1: 191030.0\n",
      "            2: -1675.0\n",
      "            3: 12.5\n",
      "            4: -0.03874\n",
      "            5: 4.6121e-05\n",
      "             value at 300K [J/kmol/K]= 141130.10000000015\n",
      "Setting heat capacity constants for n-Pentane (taken from Perrys):\n",
      "            1: 159080.0\n",
      "            2: -270.5\n",
      "            3: 0.99537\n",
      "            4: 0.0\n",
      "            5: 0.0\n",
      "             value at 300K [J/kmol/K]= 167513.3\n",
      "Setting heat capacity constants for n-Octane (taken from Perrys):\n",
      "            1: 224830.0\n",
      "            2: -186.63\n",
      "            3: 0.95891\n",
      "            4: 0.0\n",
      "            5: 0.0\n",
      "             value at 300K [J/kmol/K]= 255142.90000000002\n",
      "Setting heat capacity for n-Butane to be 4R (ideal polyatomic gas)\n",
      "Setting heat capacity for n-Pentane to be 4R (ideal polyatomic gas)\n",
      "Setting heat capacity for n-Octane to be 4R (ideal polyatomic gas)\n",
      "Assuming heat of vaporization of n-Butane is constant at 2.240000e+01 kJ/mol\n",
      "Assuming heat of vaporization of n-Pentane is constant at 2.580000e+01 kJ/mol\n",
      "Assuming heat of vaporization of n-Octane is constant at 3.441000e+01 kJ/mol\n"
     ],
     "output_type": "stream"
    }
   ],
   "source": [
    "model.add_parameters(verbose=True)"
   ],
   "metadata": {
    "collapsed": false,
    "pycharm": {
     "name": "#%%\n",
     "is_executing": false
    }
   }
  },
  {
   "cell_type": "code",
   "execution_count": 5,
   "metadata": {
    "pycharm": {
     "is_executing": false,
     "name": "#%%\n"
    }
   },
   "outputs": [],
   "source": [
    "model.calculate_T_feed()"
   ]
  },
  {
   "cell_type": "code",
   "execution_count": 6,
   "outputs": [],
   "source": [
    "model.initialize_flow_rates()"
   ],
   "metadata": {
    "collapsed": false,
    "pycharm": {
     "name": "#%%\n",
     "is_executing": false
    }
   }
  },
  {
   "cell_type": "code",
   "execution_count": 7,
   "outputs": [],
   "source": [
    "model.update_K_values()"
   ],
   "metadata": {
    "collapsed": false,
    "pycharm": {
     "name": "#%%\n",
     "is_executing": false
    }
   }
  },
  {
   "cell_type": "code",
   "execution_count": 8,
   "outputs": [
    {
     "name": "stdout",
     "text": [
      "n-Butane [1.99929848e+02 7.50794119e+01 5.16369459e+01 4.72352856e+01\n",
      " 4.64088106e+01 4.62536280e+01 4.62244902e+01 4.62190192e+01\n",
      " 4.62179919e+01 4.62177990e+01 4.62177628e+01 4.62177560e+01\n",
      " 4.62177547e+01 4.62177545e+01 4.62177544e+01 1.61762141e+02\n",
      " 1.06259992e+02 6.97853466e+01 4.58151085e+01 3.00624585e+01\n",
      " 1.97102050e+01 1.29069591e+01 8.43603340e+00 5.49785120e+00\n",
      " 3.56695024e+00 2.29800970e+00 1.46409323e+00 9.16063875e-01\n",
      " 5.55912482e-01 3.19229859e-01 7.01519441e-02]\n",
      "n-Pentane [162.02993244 179.02554496 188.41470147 193.60170253 196.46724002\n",
      " 198.05029446 198.92484641 199.40798905 199.67489922 199.82235265\n",
      " 199.9038127  199.94881496 199.97367628 199.98741082 199.9949984\n",
      " 699.99716547 700.00135562 700.00945752 700.02512306 700.05541332\n",
      " 700.11398137 700.22722625 700.44619209 700.86957583 701.68821398\n",
      " 703.2711005  706.33170761 712.24957713 723.69213684 745.81702018\n",
      " 337.97006756]\n",
      "n-Octane [3.72340821e-14 7.50452401e-13 7.93790500e-12 8.03694080e-11\n",
      " 8.10297370e-10 8.16614128e-09 8.22946065e-08 8.29323694e-07\n",
      " 8.35750407e-06 8.42226888e-05 8.48753555e-04 8.55330798e-03\n",
      " 8.61959011e-02 8.68638587e-01 8.75369925e+00 3.08753699e+02\n",
      " 3.08753699e+02 3.08753699e+02 3.08753699e+02 3.08753699e+02\n",
      " 3.08753699e+02 3.08753699e+02 3.08753699e+02 3.08753699e+02\n",
      " 3.08753699e+02 3.08753706e+02 3.08753952e+02 3.08762616e+02\n",
      " 3.09068191e+02 3.19846206e+02 3.00000000e+02]\n"
     ],
     "output_type": "stream"
    }
   ],
   "source": [
    "for i in model.components:\n",
    "    model.solve_component_mass_bal(i)\n",
    "    print(i, model.l[i])"
   ],
   "metadata": {
    "collapsed": false,
    "pycharm": {
     "name": "#%%\n",
     "is_executing": false
    }
   }
  },
  {
   "cell_type": "code",
   "execution_count": 9,
   "outputs": [
    {
     "name": "stdout",
     "text": [
      "[326.41148258 326.41148258 326.41148258 326.41148258 326.41148258\n",
      " 326.41148258 326.41148258 326.41148258 326.41148258 326.41148258\n",
      " 326.41148258 326.41148258 326.41148258 326.41148258 326.41148258\n",
      " 326.41148258 326.41148258 326.41148258 326.41148258 326.41148258\n",
      " 326.41148258 326.41148258 326.41148258 326.41148258 326.41148258\n",
      " 326.41148258 326.41148258 326.41148258 326.41148258 326.41148258\n",
      " 326.41148258]\n",
      "[302.65135841 312.93486066 316.91145887 317.91720146 318.18940775\n",
      " 318.28431529 318.32619847 318.34732468 318.35860855 318.36477637\n",
      " 318.36827234 318.37124777 318.38344257 318.49636357 319.61426411\n",
      " 329.62417689 333.54344333 336.58271797 338.82738692 340.4260849\n",
      " 341.5352658  342.2903401  342.79656106 343.13014108 343.34285081\n",
      " 343.46640767 343.51477991 343.48345873 343.35410574 343.43030105\n",
      " 354.27450115]\n"
     ],
     "output_type": "stream"
    }
   ],
   "source": [
    "print(model.T)\n",
    "model.update_T_values()\n",
    "print(model.T)"
   ],
   "metadata": {
    "collapsed": false,
    "pycharm": {
     "name": "#%%\n",
     "is_executing": false
    }
   }
  },
  {
   "cell_type": "code",
   "execution_count": 10,
   "outputs": [
    {
     "name": "stdout",
     "text": [
      "False\n"
     ],
     "output_type": "stream"
    }
   ],
   "source": [
    "print(model.T_is_converged())"
   ],
   "metadata": {
    "collapsed": false,
    "pycharm": {
     "name": "#%%\n",
     "is_executing": false
    }
   }
  },
  {
   "cell_type": "code",
   "execution_count": 11,
   "outputs": [
    {
     "name": "stdout",
     "text": [
      "0 [303.82010228 314.8243077  319.41767894 320.95803126 321.5028456\n",
      " 321.73405341 321.85215209 321.92046213 321.96273148 321.98982045\n",
      " 322.00753943 322.01948275 322.03063923 322.08413538 322.76095892\n",
      " 330.05347799 333.53942976 335.57269784 336.59985012 337.07509156\n",
      " 337.29364756 337.41379468 337.51324063 337.62998113 337.78516419\n",
      " 337.9947774  338.2757233  338.65155432 339.201758   340.92411227\n",
      " 355.64166628]\n",
      "1 [304.2134622  315.15024544 319.52139164 320.81642697 321.14076802\n",
      " 321.19358667 321.17595046 321.14440564 321.11460285 321.09027878\n",
      " 321.07163136 321.05824816 321.05433934 321.12157291 321.98994048\n",
      " 330.3055674  334.32449975 336.95785975 338.50142308 339.33688746\n",
      " 339.75264352 339.9284065  339.96720904 339.9267985  339.84110691\n",
      " 339.73371044 339.6267557  339.55126984 339.61822    341.05732592\n",
      " 356.15904863]\n",
      "2 [304.4945106  315.42460432 319.73332596 321.01083038 321.35681505\n",
      " 321.45112468 321.48141105 321.49645053 321.50801966 321.51843099\n",
      " 321.52784638 321.53643585 321.54854746 321.61977993 322.42758661\n",
      " 330.31333665 334.15299602 336.55897278 337.91589319 338.64601905\n",
      " 339.03898265 339.25953156 339.39284431 339.48012564 339.53987094\n",
      " 339.57969121 339.60358338 339.62175231 339.72901303 341.20721205\n",
      " 356.55265811]\n",
      "3 [304.4859227  315.40360597 319.69779674 320.96180536 321.29911625\n",
      " 321.38553679 321.40630998 321.40994101 321.40894059 321.40657424\n",
      " 321.40380962 321.40138917 321.40429012 321.47125553 322.30158855\n",
      " 330.33834428 334.24101044 336.70823764 338.10064923 338.83398606\n",
      " 339.20348473 339.38355027 339.46886284 339.50868455 339.52789396\n",
      " 339.53855847 339.54647942 339.55991559 339.66895007 341.1653029\n",
      " 356.5402964 ]\n",
      "4 [304.49320021 315.41196763 319.70681601 320.97344997 321.31415502\n",
      " 321.40388547 321.42777995 321.43454594 321.4368724  321.43807185\n",
      " 321.43904236 321.44038477 321.44682894 321.51610228 322.34132309\n",
      " 330.3365469  334.22728723 336.68455209 338.07500805 338.81461064\n",
      " 339.19542421 339.38812255 339.48443955 339.5318371  339.55451855\n",
      " 339.56483239 339.56948095 339.57765977 339.68007164 341.17163892\n",
      " 356.5507481 ]\n",
      "5 [304.49954873 315.41807053 319.71124635 320.97669347 321.3164605\n",
      " 321.40526489 321.42820496 321.43399881 321.4353341  321.43550905\n",
      " 321.43540948 321.43563893 321.44096978 321.50939016 322.33549159\n",
      " 330.33827635 334.23026367 336.68726655 338.07582706 338.8126955\n",
      " 339.19094522 339.38197288 339.47781249 339.52586394 339.55003487\n",
      " 339.56228161 339.56892184 339.57879704 339.68232117 341.17524712\n",
      " 356.55987237]\n"
     ],
     "output_type": "stream"
    }
   ],
   "source": [
    "iter = 0\n",
    "while not model.T_is_converged():\n",
    "    model.update_K_values()\n",
    "    for i in model.components:\n",
    "        model.solve_component_mass_bal(i)\n",
    "    model.update_T_values()\n",
    "    print(iter, model.T)\n",
    "    iter += 1"
   ],
   "metadata": {
    "collapsed": false,
    "pycharm": {
     "name": "#%%\n",
     "is_executing": false
    }
   }
  },
  {
   "cell_type": "code",
   "execution_count": 12,
   "outputs": [],
   "source": [
    "model.solve_energy_balances()"
   ],
   "metadata": {
    "collapsed": false,
    "pycharm": {
     "name": "#%%\n",
     "is_executing": false
    }
   }
  },
  {
   "cell_type": "code",
   "execution_count": 13,
   "outputs": [
    {
     "name": "stdout",
     "text": [
      "False\n"
     ],
     "output_type": "stream"
    }
   ],
   "source": [
    "print(model.flow_rates_converged())"
   ],
   "metadata": {
    "collapsed": false,
    "pycharm": {
     "name": "#%%\n",
     "is_executing": false
    }
   }
  },
  {
   "cell_type": "code",
   "execution_count": 14,
   "outputs": [
    {
     "name": "stdout",
     "text": [
      "0 4\n",
      "1 9\n",
      "2 13\n",
      "3 16\n",
      "4 18\n",
      "5 19\n",
      "6 20\n",
      "7 20\n",
      "8 20\n",
      "9 20\n",
      "10 20\n",
      "11 20\n",
      "12 20\n",
      "13 20\n"
     ],
     "output_type": "stream"
    }
   ],
   "source": [
    "outer_iter = -1\n",
    "inner_iter = -1\n",
    "while not model.flow_rates_converged():\n",
    "    outer_iter += 1\n",
    "    for i in model.components:\n",
    "        model.solve_component_mass_bal(i)\n",
    "    model.update_T_values()\n",
    "    while not model.T_is_converged():\n",
    "        inner_iter += 1\n",
    "        model.update_K_values()\n",
    "        for i in model.components:\n",
    "            model.solve_component_mass_bal(i)\n",
    "        model.update_T_values()\n",
    "    print(outer_iter, inner_iter)\n",
    "    model.solve_energy_balances()"
   ],
   "metadata": {
    "collapsed": false,
    "pycharm": {
     "name": "#%%\n",
     "is_executing": false
    }
   }
  },
  {
   "cell_type": "code",
   "execution_count": 15,
   "outputs": [
    {
     "name": "stdout",
     "text": [
      "[ 400.          357.42139397  379.77377068  391.06361155  396.59622522\n",
      "  399.32301602  400.67713386  401.35300679  401.69127037  401.86051956\n",
      "  401.9439698   401.97357479  401.84550015  400.05825967  381.77734625\n",
      " 1402.76914663 1424.58918773 1440.30711388 1449.76978102 1454.90512741\n",
      " 1457.54264456 1458.86151162 1459.51482064 1459.84029603 1460.00690127\n",
      " 1460.09550396 1460.11585752 1459.72120044 1454.68874228 1406.58698668\n",
      "  600.        ]\n",
      "[  0.         714.80523296 757.42139397 779.77377068 791.06361155\n",
      " 796.59622522 799.32301602 800.67713386 801.35300679 801.69127037\n",
      " 801.86051956 801.9439698  801.97357479 801.84550015 800.05825967\n",
      " 781.77734625 802.76914663 824.58918773 840.30711388 849.76978102\n",
      " 854.90512741 857.54264456 858.86151162 859.51482064 859.84029603\n",
      " 860.00690127 860.09550396 860.11585752 859.72120044 854.68874228\n",
      " 806.58698668]\n"
     ],
     "output_type": "stream"
    }
   ],
   "source": [
    "print(model.L)\n",
    "print(model.V)"
   ],
   "metadata": {
    "collapsed": false,
    "pycharm": {
     "name": "#%%\n",
     "is_executing": false
    }
   }
  },
  {
   "cell_type": "code",
   "execution_count": 16,
   "outputs": [
    {
     "data": {
      "text/plain": "<matplotlib.legend.Legend at 0x187c176afc8>"
     },
     "metadata": {},
     "output_type": "execute_result",
     "execution_count": 16
    },
    {
     "data": {
      "text/plain": "<Figure size 432x288 with 1 Axes>",
      "image/png": "[encoded data removed]"
     },
     "metadata": {
      "needs_background": "light"
     },
     "output_type": "display_data"
    },
    {
     "data": {
      "text/plain": "<Figure size 432x288 with 1 Axes>",
      "image/png": "[encoded data removed]"
     },
     "metadata": {
      "needs_background": "light"
     },
     "output_type": "display_data"
    },
    {
     "data": {
      "text/plain": "<Figure size 432x288 with 1 Axes>",
      "image/png": "[encoded data removed]"
     },
     "metadata": {
      "needs_background": "light"
     },
     "output_type": "display_data"
    }
   ],
   "source": [
    "# plot temperatures\n",
    "import matplotlib.pyplot as plt\n",
    "\n",
    "fig = plt.figure(1)\n",
    "ax = fig.add_subplot(111)\n",
    "ax.plot(model.stages, model.T, 'o')\n",
    "ax.set_xlabel('Stage Number')\n",
    "ax.set_ylabel('Temperature [K]')\n",
    "\n",
    "# plot liquid-phase mole fractions\n",
    "fig2 = plt.figure(2)\n",
    "ax2 = fig2.add_subplot(111)\n",
    "# calculate mole fractions\n",
    "for i in model.components:\n",
    "    x = model.l[i][:]/model.L[:]\n",
    "    y = model.K[i]*x\n",
    "    ax2.plot(model.stages, x, label=i)\n",
    "ax2.set_ylabel('Liquid phase mole fraction')\n",
    "ax2.set_xlabel('Stage Number')\n",
    "ax2.legend()\n",
    "\n",
    "\n",
    "fig3 = plt.figure(3)\n",
    "ax3 = fig3.add_subplot(111)\n",
    "# calculate mole fractions\n",
    "for i in model.components:\n",
    "    x = model.l[i][:]/model.L[:]\n",
    "    y = model.K[i]*x\n",
    "    ax3.plot(model.stages, y, label=i)\n",
    "ax3.set_ylabel('Vapor phase mole fraction')\n",
    "ax3.set_xlabel('Stage Number')\n",
    "ax3.legend()"
   ],
   "metadata": {
    "collapsed": false,
    "pycharm": {
     "name": "#%%\n",
     "is_executing": false
    }
   }
  }
 ],
 "metadata": {
  "kernelspec": {
   "display_name": "PyCharm (distillation)",
   "language": "python",
   "name": "pycharm-366b8f7b"
  },
  "language_info": {
   "codemirror_mode": {
    "name": "ipython",
    "version": 3
   },
   "file_extension": ".py",
   "mimetype": "text/x-python",
   "name": "python",
   "nbconvert_exporter": "python",
   "pygments_lexer": "ipython3",
   "version": "3.7.4"
  },
  "pycharm": {
   "stem_cell": {
    "cell_type": "raw",
    "source": [],
    "metadata": {
     "collapsed": false
    }
   }
  }
 },
 "nbformat": 4,
 "nbformat_minor": 4
}